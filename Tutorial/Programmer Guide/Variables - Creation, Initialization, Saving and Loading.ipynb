{
 "cells": [
  {
   "cell_type": "markdown",
   "metadata": {},
   "source": [
    "**Variables** is used to hold and update parameters. They are in-memory buffers containing tensors.\n",
    "**Must be explicitly initialized**"
   ]
  },
  {
   "cell_type": "markdown",
   "metadata": {},
   "source": [
    "## Creation\n",
    "\n",
    "When create a Variable, pass a Tensor as its initial value to the Variable() constructor."
   ]
  },
  {
   "cell_type": "code",
   "execution_count": null,
   "metadata": {
    "collapsed": true
   },
   "outputs": [],
   "source": [
    "# Create two variables. The init tensor shape become the the shape of the variable\n",
    "weights = tf.Variable(tf.random_normal([784, 200], stddev=0.35),\n",
    "                      name=\"weights\")\n",
    "biases = tf.Variable(tf.zeros([200]), name=\"biases\")\n",
    "\n",
    "\"\"\"\n",
    "Calling tf.Variable() adds several ops to the graph:\n",
    "\n",
    "A variable op that holds the variable value.\n",
    "An initializer op that sets the variable to its initial value. This is actually a tf.assign op.\n",
    "The ops for the initial value, such as the zeros op for the biases variable in the example are also added to the graph.\n",
    "\"\"\""
   ]
  },
  {
   "cell_type": "markdown",
   "metadata": {},
   "source": [
    "## Device Placement"
   ]
  },
  {
   "cell_type": "code",
   "execution_count": null,
   "metadata": {
    "collapsed": true
   },
   "outputs": [],
   "source": [
    "# Pin a variable to CPU.\n",
    "with tf.device(\"/cpu:0\"):\n",
    "    v = tf.Variable(...)\n",
    "\n",
    "# Pin a variable to GPU.\n",
    "with tf.device(\"/gpu:0\"):\n",
    "    v = tf.Variable(...)\n",
    "\n",
    "# Pin a variable to a particular parameter server task.\n",
    "with tf.device(\"/job:ps/task:7\"):\n",
    "    v = tf.Variable(...)\n",
    "\n",
    "\"\"\"\n",
    "N.B. Operations that mutate a variable, such as tf.Variable.assign \n",
    "and the parameter update operations in a tf.train.Optimizer \n",
    "must run on the same device as the variable. Incompatible device placement directives will be ignored \n",
    "when creating these operations.\n",
    "\"\"\""
   ]
  },
  {
   "cell_type": "markdown",
   "metadata": {},
   "source": [
    "## Initialization\n",
    "Variable initializers **must be run explicitly** before other ops in your model can be run.\n"
   ]
  },
  {
   "cell_type": "code",
   "execution_count": null,
   "metadata": {
    "collapsed": true
   },
   "outputs": [],
   "source": [
    "\"\"\"\n",
    "Use tf.global_variables_initializer() to add an op to run variable initializers. \n",
    "Only run that op after you have fully constructed your model and launched it in a session.\n",
    "\"\"\"\n",
    "\n",
    "# Create two variables.\n",
    "weights = tf.Variable(tf.random_normal([784, 200], stddev=0.35),\n",
    "                      name=\"weights\")\n",
    "biases = tf.Variable(tf.zeros([200]), name=\"biases\")\n",
    "...\n",
    "# Add an op to initialize the variables.\n",
    "init_op = tf.global_variables_initializer()\n",
    "\n",
    "# Later, when launching the model\n",
    "with tf.Session() as sess:\n",
    "  # Run the init operation.\n",
    "  sess.run(init_op)\n",
    "  ...\n",
    "  # Use the model\n",
    "  ..."
   ]
  },
  {
   "cell_type": "markdown",
   "metadata": {},
   "source": [
    "## Initialization from another Variable\n",
    "\n",
    "**global_variables_initializer()** initialize all variables in parallel. If a variable intialize from another variable's initial value, , please use **initialized_value()** property."
   ]
  },
  {
   "cell_type": "code",
   "execution_count": null,
   "metadata": {
    "collapsed": true
   },
   "outputs": [],
   "source": [
    "# Create a variable with a random value.\n",
    "weights = tf.Variable(tf.random_normal([784, 200], stddev=0.35),\n",
    "                      name=\"weights\")\n",
    "# Create another variable with the same value as 'weights'.\n",
    "w2 = tf.Variable(weights.initialized_value(), name=\"w2\")\n",
    "# Create another variable with twice the value of 'weights'\n",
    "w_twice = tf.Variable(weights.initialized_value() * 2.0, name=\"w_twice\")"
   ]
  },
  {
   "cell_type": "markdown",
   "metadata": {},
   "source": [
    "## Saving and Restoring"
   ]
  },
  {
   "cell_type": "code",
   "execution_count": null,
   "metadata": {
    "collapsed": true
   },
   "outputs": [],
   "source": []
  }
 ],
 "metadata": {
  "kernelspec": {
   "display_name": "Python 3",
   "language": "python",
   "name": "python3"
  },
  "language_info": {
   "codemirror_mode": {
    "name": "ipython",
    "version": 3
   },
   "file_extension": ".py",
   "mimetype": "text/x-python",
   "name": "python",
   "nbconvert_exporter": "python",
   "pygments_lexer": "ipython3",
   "version": "3.6.0"
  }
 },
 "nbformat": 4,
 "nbformat_minor": 2
}
